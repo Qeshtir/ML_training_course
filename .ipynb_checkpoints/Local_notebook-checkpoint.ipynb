{
 "cells": [
  {
   "cell_type": "code",
   "execution_count": 3,
   "id": "021ac9de-ee71-44f4-8cdf-d0c550d9fe39",
   "metadata": {},
   "outputs": [
    {
     "data": {
      "text/plain": [
       "'C:\\\\Users\\\\realn\\\\PycharmProjects\\\\ML_training_course'"
      ]
     },
     "execution_count": 3,
     "metadata": {},
     "output_type": "execute_result"
    }
   ],
   "source": [
    "import os\n",
    "os.getcwd()"
   ]
  },
  {
   "cell_type": "code",
   "execution_count": null,
   "id": "52d98ee2-a377-42d0-86b6-7ef74c084f10",
   "metadata": {},
   "outputs": [],
   "source": [
    "import pandas as pd\n",
    "playstore = pd.read_csv('.\\\\01 Python\\\\05 Unit\\\\playstore.csv')\n",
    "\n"
   ]
  },
  {
   "cell_type": "code",
   "execution_count": null,
   "id": "90ef6927-09af-47d8-9d49-b0ad551d7abf",
   "metadata": {},
   "outputs": [],
   "source": [
    "# task 1\n",
    "data_head = playstore.head(3)\n",
    "data_tail = playstore.tail(3)\n",
    "data_"
   ]
  },
  {
   "cell_type": "code",
   "execution_count": null,
   "id": "9960c452-63f8-43d2-b942-4654e9867843",
   "metadata": {},
   "outputs": [],
   "source": []
  }
 ],
 "metadata": {
  "kernelspec": {
   "display_name": "Python 3 (ipykernel)",
   "language": "python",
   "name": "python3"
  },
  "language_info": {
   "codemirror_mode": {
    "name": "ipython",
    "version": 3
   },
   "file_extension": ".py",
   "mimetype": "text/x-python",
   "name": "python",
   "nbconvert_exporter": "python",
   "pygments_lexer": "ipython3",
   "version": "3.9.13"
  }
 },
 "nbformat": 4,
 "nbformat_minor": 5
}
