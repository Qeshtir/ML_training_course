{
 "cells": [
  {
   "cell_type": "code",
   "execution_count": 1,
   "id": "be48025f-01e9-4e54-9597-9161548d6575",
   "metadata": {},
   "outputs": [],
   "source": [
    "import warnings\n",
    "warnings.filterwarnings('ignore')"
   ]
  },
  {
   "cell_type": "code",
   "execution_count": 11,
   "id": "41cfc409-8397-4834-b373-f7dd404f95e1",
   "metadata": {},
   "outputs": [
    {
     "data": {
      "text/plain": [
       "array([1, 3, 2])"
      ]
     },
     "execution_count": 11,
     "metadata": {},
     "output_type": "execute_result"
    }
   ],
   "source": [
    "import numpy as np\n",
    "\n",
    "a = np.array([1, 3, 2])\n",
    "\n",
    "a"
   ]
  },
  {
   "cell_type": "code",
   "execution_count": 5,
   "id": "9e353c7b-2889-49c5-bfe0-e9680ff2b7e6",
   "metadata": {},
   "outputs": [
    {
     "data": {
      "text/plain": [
       "array([[1.+0.j, 3.+0.j, 2.+0.j],\n",
       "       [4.+0.j, 5.+0.j, 6.+0.j]])"
      ]
     },
     "execution_count": 5,
     "metadata": {},
     "output_type": "execute_result"
    }
   ],
   "source": [
    "a = np.array([[1, 3, 2], [4, 5, 6]], dtype=np.complex128)\n",
    "a"
   ]
  },
  {
   "cell_type": "code",
   "execution_count": 6,
   "id": "08069288-da9b-4d08-a847-baa117ad5a35",
   "metadata": {},
   "outputs": [
    {
     "data": {
      "text/plain": [
       "array([[    1,     3,     2],\n",
       "       [    4,     5, 10176]], dtype=int16)"
      ]
     },
     "execution_count": 6,
     "metadata": {},
     "output_type": "execute_result"
    }
   ],
   "source": [
    "a = np.array([[1, 3, 2], [4, 5, 600000]], dtype=np.int16)\n",
    "a"
   ]
  },
  {
   "cell_type": "code",
   "execution_count": 7,
   "id": "781d7124-42c4-442a-a6d6-10f714b9a9de",
   "metadata": {},
   "outputs": [],
   "source": [
    "A = np.array([[3, 4, 5],\n",
    "             [1, 1, 1,]])\n",
    "\n",
    "B = np.array([[5, 5, 10],\n",
    "             [3, 1, 2,]])\n",
    "\n"
   ]
  },
  {
   "cell_type": "code",
   "execution_count": 8,
   "id": "507d67a8-5c4f-4c3d-b451-feacee4b7d0a",
   "metadata": {},
   "outputs": [
    {
     "data": {
      "text/plain": [
       "array([[ 8,  9, 15],\n",
       "       [ 4,  2,  3]])"
      ]
     },
     "execution_count": 8,
     "metadata": {},
     "output_type": "execute_result"
    }
   ],
   "source": [
    "A + B"
   ]
  },
  {
   "cell_type": "code",
   "execution_count": 9,
   "id": "4f70ce70-6e51-4565-948c-de2d83551db8",
   "metadata": {},
   "outputs": [],
   "source": [
    "A = np.array([[3, 4, 5],\n",
    "             [1, 1, 1,]])\n",
    "\n",
    "B = np.array([[5, 5, 10],\n",
    "             [3, 1, 2,],\n",
    "             [4, 4, 12]])"
   ]
  },
  {
   "cell_type": "code",
   "execution_count": 11,
   "id": "08a2b3bd-d3bf-4332-9f55-6ed2fd8061a5",
   "metadata": {},
   "outputs": [
    {
     "data": {
      "text/plain": [
       "array([[47, 39, 98],\n",
       "       [12, 10, 24]])"
      ]
     },
     "execution_count": 11,
     "metadata": {},
     "output_type": "execute_result"
    }
   ],
   "source": [
    "np.dot(A, B)"
   ]
  },
  {
   "cell_type": "code",
   "execution_count": 12,
   "id": "306abe84-b5b6-4367-9ca2-9a09e1b32078",
   "metadata": {},
   "outputs": [
    {
     "data": {
      "text/plain": [
       "array([[3, 1],\n",
       "       [4, 1],\n",
       "       [5, 1]])"
      ]
     },
     "execution_count": 12,
     "metadata": {},
     "output_type": "execute_result"
    }
   ],
   "source": [
    "A = np.array([[3, 4, 5],\n",
    "             [1, 1, 1,]])\n",
    "A.T"
   ]
  },
  {
   "cell_type": "code",
   "execution_count": 13,
   "id": "f46ecf42-44c4-460d-a87c-81e972248fd5",
   "metadata": {},
   "outputs": [
    {
     "data": {
      "text/plain": [
       "array([[1., 0., 0.],\n",
       "       [0., 1., 0.],\n",
       "       [0., 0., 1.]])"
      ]
     },
     "execution_count": 13,
     "metadata": {},
     "output_type": "execute_result"
    }
   ],
   "source": [
    "np.eye(3)"
   ]
  },
  {
   "cell_type": "code",
   "execution_count": 14,
   "id": "8b69573f-1e9b-41b5-b312-875a2f41a3f6",
   "metadata": {},
   "outputs": [
    {
     "data": {
      "text/plain": [
       "array([[ 0.7 ,  0.5 , -1.  ],\n",
       "       [-0.1 , -0.5 ,  0.5 ],\n",
       "       [-0.2 ,  0.  ,  0.25]])"
      ]
     },
     "execution_count": 14,
     "metadata": {},
     "output_type": "execute_result"
    }
   ],
   "source": [
    "A = np.array([[5, 5, 10],\n",
    "             [3, 1, 10,],\n",
    "             [4, 4, 12]])\n",
    "np.linalg.inv(A)"
   ]
  },
  {
   "cell_type": "code",
   "execution_count": 15,
   "id": "4360c66a-0d2a-4a71-b9ab-b1ad3072b3d0",
   "metadata": {},
   "outputs": [],
   "source": [
    "X = np.array(\n",
    "    [\n",
    "        [23, 0.5, 1],\n",
    "        [35, 1, 1],\n",
    "        [18, 0, 1]\n",
    "    ]\n",
    ")\n",
    "\n",
    "Y = np.array([55, 100, 45])\n"
   ]
  },
  {
   "cell_type": "code",
   "execution_count": 17,
   "id": "5d3bf42c-56e5-4729-aa49-9b270e4e1eac",
   "metadata": {},
   "outputs": [],
   "source": [
    "xxt = np.dot(X.T, X)\n",
    "xxt_inv = np.linalg.inv(xxt)"
   ]
  },
  {
   "cell_type": "code",
   "execution_count": 21,
   "id": "e8b0cca9-315e-48ed-8d6f-168d0de1b18f",
   "metadata": {},
   "outputs": [],
   "source": [
    "xxt_inv_xxt = np.dot(xxt_inv, X.T)\n",
    "final_betas = np.dot(xxt_inv_xxt, Y)"
   ]
  },
  {
   "cell_type": "code",
   "execution_count": 22,
   "id": "66da55b3-9785-4dfc-b692-ce12f2b9a05e",
   "metadata": {},
   "outputs": [
    {
     "data": {
      "text/plain": [
       "array([  5., -30., -45.])"
      ]
     },
     "execution_count": 22,
     "metadata": {},
     "output_type": "execute_result"
    }
   ],
   "source": [
    "final_betas"
   ]
  },
  {
   "cell_type": "code",
   "execution_count": 2,
   "id": "fe85c1b0-5fe3-4451-bd1c-aee8fa21f725",
   "metadata": {},
   "outputs": [],
   "source": [
    "import pandas as pd\n",
    "\n",
    "X = pd.read_csv('X.csv', encoding='utf8', sep=\";\").drop(['Предсказание', 'Unnamed: 0'], axis = 1)\n",
    "Y = pd.read_csv('Y.csv', encoding='utf8', sep=\";\").drop(['Unnamed: 0'], axis = 1)"
   ]
  },
  {
   "cell_type": "code",
   "execution_count": 5,
   "id": "cebda165-8159-435b-a95f-c3691fef7e8e",
   "metadata": {},
   "outputs": [
    {
     "data": {
      "text/html": [
       "<div>\n",
       "<style scoped>\n",
       "    .dataframe tbody tr th:only-of-type {\n",
       "        vertical-align: middle;\n",
       "    }\n",
       "\n",
       "    .dataframe tbody tr th {\n",
       "        vertical-align: top;\n",
       "    }\n",
       "\n",
       "    .dataframe thead th {\n",
       "        text-align: right;\n",
       "    }\n",
       "</style>\n",
       "<table border=\"1\" class=\"dataframe\">\n",
       "  <thead>\n",
       "    <tr style=\"text-align: right;\">\n",
       "      <th></th>\n",
       "      <th>Категория</th>\n",
       "      <th>Цель в долларах</th>\n",
       "      <th>Срок</th>\n",
       "      <th>Год публикации</th>\n",
       "      <th>Close_brent</th>\n",
       "      <th>CAD</th>\n",
       "      <th>CHF</th>\n",
       "      <th>DKK</th>\n",
       "      <th>EUR</th>\n",
       "      <th>GBP</th>\n",
       "      <th>...</th>\n",
       "      <th>Design</th>\n",
       "      <th>Fashion</th>\n",
       "      <th>Film &amp; Video</th>\n",
       "      <th>Food</th>\n",
       "      <th>Journalism</th>\n",
       "      <th>Music</th>\n",
       "      <th>Photography</th>\n",
       "      <th>Publishing</th>\n",
       "      <th>Technology</th>\n",
       "      <th>Theater</th>\n",
       "    </tr>\n",
       "  </thead>\n",
       "  <tbody>\n",
       "    <tr>\n",
       "      <th>0</th>\n",
       "      <td>6035.989239</td>\n",
       "      <td>1000.0</td>\n",
       "      <td>39</td>\n",
       "      <td>2009</td>\n",
       "      <td>46.05</td>\n",
       "      <td>0</td>\n",
       "      <td>0</td>\n",
       "      <td>0</td>\n",
       "      <td>0</td>\n",
       "      <td>0</td>\n",
       "      <td>...</td>\n",
       "      <td>0</td>\n",
       "      <td>1</td>\n",
       "      <td>0</td>\n",
       "      <td>0</td>\n",
       "      <td>0</td>\n",
       "      <td>0</td>\n",
       "      <td>0</td>\n",
       "      <td>0</td>\n",
       "      <td>0</td>\n",
       "      <td>0</td>\n",
       "    </tr>\n",
       "    <tr>\n",
       "      <th>1</th>\n",
       "      <td>3591.033473</td>\n",
       "      <td>80000.0</td>\n",
       "      <td>87</td>\n",
       "      <td>2009</td>\n",
       "      <td>46.05</td>\n",
       "      <td>0</td>\n",
       "      <td>0</td>\n",
       "      <td>0</td>\n",
       "      <td>0</td>\n",
       "      <td>0</td>\n",
       "      <td>...</td>\n",
       "      <td>0</td>\n",
       "      <td>0</td>\n",
       "      <td>1</td>\n",
       "      <td>0</td>\n",
       "      <td>0</td>\n",
       "      <td>0</td>\n",
       "      <td>0</td>\n",
       "      <td>0</td>\n",
       "      <td>0</td>\n",
       "      <td>0</td>\n",
       "    </tr>\n",
       "    <tr>\n",
       "      <th>2</th>\n",
       "      <td>3661.424550</td>\n",
       "      <td>20.0</td>\n",
       "      <td>8</td>\n",
       "      <td>2009</td>\n",
       "      <td>46.05</td>\n",
       "      <td>0</td>\n",
       "      <td>0</td>\n",
       "      <td>0</td>\n",
       "      <td>0</td>\n",
       "      <td>0</td>\n",
       "      <td>...</td>\n",
       "      <td>0</td>\n",
       "      <td>0</td>\n",
       "      <td>0</td>\n",
       "      <td>0</td>\n",
       "      <td>0</td>\n",
       "      <td>0</td>\n",
       "      <td>0</td>\n",
       "      <td>0</td>\n",
       "      <td>0</td>\n",
       "      <td>0</td>\n",
       "    </tr>\n",
       "    <tr>\n",
       "      <th>3</th>\n",
       "      <td>4321.245721</td>\n",
       "      <td>99.0</td>\n",
       "      <td>79</td>\n",
       "      <td>2009</td>\n",
       "      <td>46.05</td>\n",
       "      <td>0</td>\n",
       "      <td>0</td>\n",
       "      <td>0</td>\n",
       "      <td>0</td>\n",
       "      <td>0</td>\n",
       "      <td>...</td>\n",
       "      <td>0</td>\n",
       "      <td>0</td>\n",
       "      <td>0</td>\n",
       "      <td>0</td>\n",
       "      <td>0</td>\n",
       "      <td>0</td>\n",
       "      <td>0</td>\n",
       "      <td>0</td>\n",
       "      <td>1</td>\n",
       "      <td>0</td>\n",
       "    </tr>\n",
       "    <tr>\n",
       "      <th>4</th>\n",
       "      <td>6035.989239</td>\n",
       "      <td>1900.0</td>\n",
       "      <td>28</td>\n",
       "      <td>2009</td>\n",
       "      <td>46.05</td>\n",
       "      <td>0</td>\n",
       "      <td>0</td>\n",
       "      <td>0</td>\n",
       "      <td>0</td>\n",
       "      <td>0</td>\n",
       "      <td>...</td>\n",
       "      <td>0</td>\n",
       "      <td>1</td>\n",
       "      <td>0</td>\n",
       "      <td>0</td>\n",
       "      <td>0</td>\n",
       "      <td>0</td>\n",
       "      <td>0</td>\n",
       "      <td>0</td>\n",
       "      <td>0</td>\n",
       "      <td>0</td>\n",
       "    </tr>\n",
       "  </tbody>\n",
       "</table>\n",
       "<p>5 rows × 32 columns</p>\n",
       "</div>"
      ],
      "text/plain": [
       "     Категория  Цель в долларах  Срок  Год публикации  Close_brent  CAD  CHF  \\\n",
       "0  6035.989239           1000.0    39            2009        46.05    0    0   \n",
       "1  3591.033473          80000.0    87            2009        46.05    0    0   \n",
       "2  3661.424550             20.0     8            2009        46.05    0    0   \n",
       "3  4321.245721             99.0    79            2009        46.05    0    0   \n",
       "4  6035.989239           1900.0    28            2009        46.05    0    0   \n",
       "\n",
       "   DKK  EUR  GBP  ...  Design  Fashion  Film & Video  Food  Journalism  Music  \\\n",
       "0    0    0    0  ...       0        1             0     0           0      0   \n",
       "1    0    0    0  ...       0        0             1     0           0      0   \n",
       "2    0    0    0  ...       0        0             0     0           0      0   \n",
       "3    0    0    0  ...       0        0             0     0           0      0   \n",
       "4    0    0    0  ...       0        1             0     0           0      0   \n",
       "\n",
       "   Photography  Publishing  Technology  Theater  \n",
       "0            0           0           0        0  \n",
       "1            0           0           0        0  \n",
       "2            0           0           0        0  \n",
       "3            0           0           1        0  \n",
       "4            0           0           0        0  \n",
       "\n",
       "[5 rows x 32 columns]"
      ]
     },
     "execution_count": 5,
     "metadata": {},
     "output_type": "execute_result"
    }
   ],
   "source": [
    "X.head()"
   ]
  },
  {
   "cell_type": "code",
   "execution_count": 6,
   "id": "490a5475-3c2e-434a-b63a-1f92d0cc8974",
   "metadata": {},
   "outputs": [
    {
     "data": {
      "text/html": [
       "<div>\n",
       "<style scoped>\n",
       "    .dataframe tbody tr th:only-of-type {\n",
       "        vertical-align: middle;\n",
       "    }\n",
       "\n",
       "    .dataframe tbody tr th {\n",
       "        vertical-align: top;\n",
       "    }\n",
       "\n",
       "    .dataframe thead th {\n",
       "        text-align: right;\n",
       "    }\n",
       "</style>\n",
       "<table border=\"1\" class=\"dataframe\">\n",
       "  <thead>\n",
       "    <tr style=\"text-align: right;\">\n",
       "      <th></th>\n",
       "      <th>target2</th>\n",
       "    </tr>\n",
       "  </thead>\n",
       "  <tbody>\n",
       "    <tr>\n",
       "      <th>0</th>\n",
       "      <td>625.0</td>\n",
       "    </tr>\n",
       "    <tr>\n",
       "      <th>1</th>\n",
       "      <td>22.0</td>\n",
       "    </tr>\n",
       "    <tr>\n",
       "      <th>2</th>\n",
       "      <td>35.0</td>\n",
       "    </tr>\n",
       "    <tr>\n",
       "      <th>3</th>\n",
       "      <td>145.0</td>\n",
       "    </tr>\n",
       "    <tr>\n",
       "      <th>4</th>\n",
       "      <td>387.0</td>\n",
       "    </tr>\n",
       "  </tbody>\n",
       "</table>\n",
       "</div>"
      ],
      "text/plain": [
       "   target2\n",
       "0    625.0\n",
       "1     22.0\n",
       "2     35.0\n",
       "3    145.0\n",
       "4    387.0"
      ]
     },
     "execution_count": 6,
     "metadata": {},
     "output_type": "execute_result"
    }
   ],
   "source": [
    "Y.head()"
   ]
  },
  {
   "cell_type": "code",
   "execution_count": 3,
   "id": "c6d6e95a-a6fa-461c-afd5-6db9e1f5d4ff",
   "metadata": {},
   "outputs": [
    {
     "name": "stdout",
     "output_type": "stream",
     "text": [
      "Категория 0.9917555611549553\n",
      "Цель в долларах 0.00046052215322221063\n",
      "Срок 85.5337025015047\n",
      "Год публикации 865.6289534577179\n",
      "Close_brent 196.28519379075962\n",
      "CAD 473.2109778789071\n",
      "CHF 8884.62227328367\n",
      "DKK 548.5493235036904\n",
      "EUR 468.8986749995491\n",
      "GBP 2799.723380111349\n",
      "HKD -2027.4214619465286\n",
      "JPY -8407.156812756733\n",
      "MXN -3912.5584157550293\n",
      "NOK -1168.2763539199163\n",
      "NZD -398.3255261056959\n",
      "SEK 2115.060009988414\n",
      "SGD -1306.1393608065212\n",
      "USD 7031.440729247643\n",
      "Art -88.1148499172364\n",
      "Comics -507.19470318294054\n",
      "Crafts -626.5313243926707\n",
      "Dance -363.5870362012495\n",
      "Design -229.8043898194433\n",
      "Fashion -292.6419253905818\n",
      "Film & Video -29.220090607057365\n",
      "Food -717.4180545660636\n",
      "Journalism -469.19813210091377\n",
      "Music -274.95703843168656\n",
      "Photography 222.37988265132915\n",
      "Publishing -361.4547636853225\n",
      "Technology -209.00762162294654\n",
      "Theater 260.1727219898667\n",
      "[-1760975.79508463]\n"
     ]
    }
   ],
   "source": [
    "from sklearn.linear_model import LinearRegression\n",
    "\n",
    "# shift + tab - подсказки по функциям\n",
    "model = LinearRegression()\n",
    "model.fit(X, Y)\n",
    "\n",
    "for column, coef in zip(X.columns, model.coef_[0]):\n",
    "    print(column, coef)\n",
    "\n",
    "print(model.intercept_)"
   ]
  },
  {
   "cell_type": "code",
   "execution_count": 12,
   "id": "6044418b-c39b-4068-aef3-fc15d2dc49f6",
   "metadata": {},
   "outputs": [
    {
     "data": {
      "text/plain": [
       "array([[ 9.91755561e-01],\n",
       "       [ 4.60522153e-04],\n",
       "       [ 8.55337026e+01],\n",
       "       [ 8.65628953e+02],\n",
       "       [ 1.96285197e+02],\n",
       "       [ 4.73210978e+02],\n",
       "       [ 8.88462227e+03],\n",
       "       [ 5.48549324e+02],\n",
       "       [ 4.68898675e+02],\n",
       "       [ 2.79972338e+03],\n",
       "       [-2.02742146e+03],\n",
       "       [-8.40715681e+03],\n",
       "       [-3.91255841e+03],\n",
       "       [-1.16827635e+03],\n",
       "       [-3.98325526e+02],\n",
       "       [ 2.11506001e+03],\n",
       "       [-1.30613936e+03],\n",
       "       [ 7.03144073e+03],\n",
       "       [-8.81148499e+01],\n",
       "       [-5.07194703e+02],\n",
       "       [-6.26531324e+02],\n",
       "       [-3.63587036e+02],\n",
       "       [-2.29804390e+02],\n",
       "       [-2.92641925e+02],\n",
       "       [-2.92200907e+01],\n",
       "       [-7.17418054e+02],\n",
       "       [-4.69198132e+02],\n",
       "       [-2.74957038e+02],\n",
       "       [ 2.22379883e+02],\n",
       "       [-3.61454764e+02],\n",
       "       [-2.09007622e+02],\n",
       "       [ 2.60172722e+02],\n",
       "       [-1.76097579e+06]])"
      ]
     },
     "execution_count": 12,
     "metadata": {},
     "output_type": "execute_result"
    }
   ],
   "source": [
    "# пробуем повторить явно расчёт линейной модели\n",
    "# добавим константу явно\n",
    "X['constant'] = 1\n",
    "\n",
    "xxt = np.dot(X.T, X)\n",
    "xxt_inv = np.linalg.inv(xxt)\n",
    "xxt_inv_xxt = np.dot(xxt_inv, X.T)\n",
    "final_betas = np.dot(xxt_inv_xxt, Y)\n",
    "\n",
    "final_betas"
   ]
  },
  {
   "cell_type": "code",
   "execution_count": 13,
   "id": "5bca72aa-c630-44f7-a00f-9e8bd2c664d6",
   "metadata": {},
   "outputs": [],
   "source": [
    "# на больших матрицах формула работает очень медленно\n",
    "\n",
    "matrix = np.random.rand(50000, 50000)"
   ]
  },
  {
   "cell_type": "code",
   "execution_count": null,
   "id": "4462127e-2776-472e-852c-876baf2bb45f",
   "metadata": {},
   "outputs": [],
   "source": [
    "# не запускай это\n",
    "matrixdot = np.dot(matrix.T, matrix)\n",
    "matrix_inv = np.linalg.inv(matrixdot)"
   ]
  },
  {
   "cell_type": "code",
   "execution_count": null,
   "id": "e0c6be3f-8899-4938-9c3d-2ce1fd9317d7",
   "metadata": {},
   "outputs": [],
   "source": []
  }
 ],
 "metadata": {
  "kernelspec": {
   "display_name": "Python 3 (ipykernel)",
   "language": "python",
   "name": "python3"
  },
  "language_info": {
   "codemirror_mode": {
    "name": "ipython",
    "version": 3
   },
   "file_extension": ".py",
   "mimetype": "text/x-python",
   "name": "python",
   "nbconvert_exporter": "python",
   "pygments_lexer": "ipython3",
   "version": "3.9.13"
  }
 },
 "nbformat": 4,
 "nbformat_minor": 5
}
