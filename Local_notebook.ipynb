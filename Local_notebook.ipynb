{
 "cells": [
  {
   "cell_type": "code",
   "execution_count": 1,
   "id": "caf5fd8d-e903-4bcb-9897-81a54fcc0160",
   "metadata": {},
   "outputs": [],
   "source": [
    "import psycopg2"
   ]
  },
  {
   "cell_type": "code",
   "execution_count": 2,
   "id": "db83d90b-e3b3-4805-beb1-849210985259",
   "metadata": {},
   "outputs": [
    {
     "data": {
      "text/plain": [
       "'2.9.3 (dt dec pq3 ext lo64)'"
      ]
     },
     "execution_count": 2,
     "metadata": {},
     "output_type": "execute_result"
    }
   ],
   "source": [
    "psycopg2.__version__"
   ]
  },
  {
   "cell_type": "code",
   "execution_count": 2,
   "id": "2781d921-aaae-4edd-9e15-912e4fb2b489",
   "metadata": {},
   "outputs": [
    {
     "data": {
      "text/plain": [
       "datetime.date(2022, 2, 10)"
      ]
     },
     "execution_count": 2,
     "metadata": {},
     "output_type": "execute_result"
    }
   ],
   "source": [
    "import datetime as dt\n",
    "launch_data = dt.date(day=10, month=2, year=2022)\n",
    "launch_data"
   ]
  },
  {
   "cell_type": "code",
   "execution_count": null,
   "id": "f4f22324-b5d2-470c-8687-09aed8204a33",
   "metadata": {},
   "outputs": [],
   "source": []
  }
 ],
 "metadata": {
  "kernelspec": {
   "display_name": "Python 3 (ipykernel)",
   "language": "python",
   "name": "python3"
  },
  "language_info": {
   "codemirror_mode": {
    "name": "ipython",
    "version": 3
   },
   "file_extension": ".py",
   "mimetype": "text/x-python",
   "name": "python",
   "nbconvert_exporter": "python",
   "pygments_lexer": "ipython3",
   "version": "3.9.13"
  }
 },
 "nbformat": 4,
 "nbformat_minor": 5
}
