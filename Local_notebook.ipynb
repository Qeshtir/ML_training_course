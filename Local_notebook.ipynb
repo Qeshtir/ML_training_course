{
 "cells": [
  {
   "cell_type": "code",
   "execution_count": 3,
   "id": "021ac9de-ee71-44f4-8cdf-d0c550d9fe39",
   "metadata": {},
   "outputs": [
    {
     "data": {
      "text/plain": [
       "'C:\\\\Users\\\\realn\\\\PycharmProjects\\\\ML_training_course'"
      ]
     },
     "execution_count": 3,
     "metadata": {},
     "output_type": "execute_result"
    }
   ],
   "source": [
    "import os\n",
    "os.getcwd()"
   ]
  },
  {
   "cell_type": "code",
   "execution_count": 1,
   "id": "6a9cc576-e4b6-4f6c-987b-41109643b516",
   "metadata": {},
   "outputs": [],
   "source": [
    "test_data = {\n",
    "    \"1\": 24,\n",
    "    \"2\": 19,\n",
    "    \"3\": 10,\n",
    "    \"5\": 24,\n",
    "    \"5,6\": 10,\n",
    "    \"6\": 10,\n",
    "    \"9\": 7,\n",
    "    \"10\": 14,\n",
    "    \"10,5\": 6,\n",
    "    \"15\": 2,\n",
    "    \"19\": 86,\n",
    "    \"24\": 5,\n",
    "    \"27\": 0,\n",
    "    \"30\": 4,\n",
    "    \"31\": 11,\n",
    "    \"35\": 12,\n",
    "    \"50\": 16,\n",
    "    \"56\": 11,\n",
    "    \"60\": 43,\n",
    "    \"63\": 13,\n",
    "    \"65\": 3\n",
    "}"
   ]
  },
  {
   "cell_type": "code",
   "execution_count": 5,
   "id": "d824d52a-9017-4b47-913c-9fb18502723d",
   "metadata": {},
   "outputs": [
    {
     "data": {
      "text/plain": [
       "'111111111111111111111111'"
      ]
     },
     "execution_count": 5,
     "metadata": {},
     "output_type": "execute_result"
    }
   ],
   "source": [
    "\"1\"*test_data[\"1\"]"
   ]
  },
  {
   "cell_type": "code",
   "execution_count": 1,
   "id": "f8c3b695-acfc-42ad-b057-b755a6a7638b",
   "metadata": {},
   "outputs": [
    {
     "data": {
      "text/plain": [
       "[0.30000000000000004]"
      ]
     },
     "execution_count": 1,
     "metadata": {},
     "output_type": "execute_result"
    }
   ],
   "source": [
    "[0.1+0.1+0.1]"
   ]
  },
  {
   "cell_type": "code",
   "execution_count": null,
   "id": "3f0e0f96-8822-423c-8c0f-1ee9ff825650",
   "metadata": {},
   "outputs": [],
   "source": []
  }
 ],
 "metadata": {
  "kernelspec": {
   "display_name": "Python 3 (ipykernel)",
   "language": "python",
   "name": "python3"
  },
  "language_info": {
   "codemirror_mode": {
    "name": "ipython",
    "version": 3
   },
   "file_extension": ".py",
   "mimetype": "text/x-python",
   "name": "python",
   "nbconvert_exporter": "python",
   "pygments_lexer": "ipython3",
   "version": "3.9.13"
  }
 },
 "nbformat": 4,
 "nbformat_minor": 5
}
